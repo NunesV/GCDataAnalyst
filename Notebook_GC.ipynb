{
 "cells": [
  {
   "cell_type": "markdown",
   "metadata": {},
   "source": [
    "0. Import's"
   ]
  },
  {
   "cell_type": "code",
   "execution_count": 184,
   "metadata": {
    "scrolled": true
   },
   "outputs": [],
   "source": [
    "import mysql.connector\n",
    "import pandas as pd\n",
    "import numpy as np\n",
    "import datetime"
   ]
  },
  {
   "cell_type": "markdown",
   "metadata": {},
   "source": [
    "0. db connect"
   ]
  },
  {
   "cell_type": "code",
   "execution_count": 185,
   "metadata": {},
   "outputs": [],
   "source": [
    "mydb = mysql.connector.connect(\n",
    "  host=\"localhost\",\n",
    "  user=\"root\",\n",
    "  db=\"gc\")\n",
    "#cursor = mydb.cursor()\n"
   ]
  },
  {
   "cell_type": "markdown",
   "metadata": {},
   "source": [
    "1. Quantos usuários únicos não jogaram após o dia 03/02/2020?"
   ]
  },
  {
   "cell_type": "code",
   "execution_count": 186,
   "metadata": {
    "scrolled": true
   },
   "outputs": [
    {
     "name": "stdout",
     "output_type": "stream",
     "text": [
      "Quantidade de players únicos que não jogaram após 03/02/2020 : 2650\n"
     ]
    }
   ],
   "source": [
    "#Players totais\n",
    "qtdPlayersUnicos_q = (\"SELECT count(distinct(player_id)) as qtd FROM `players`\")\n",
    "qtdPlayersUnicos = pd.read_sql(qtdPlayersUnicos_q, con=mydb)\n",
    "qtdPlayersUnicos = qtdPlayersUnicos['qtd'][0]\n",
    "\n",
    "#Players que jogaram após dia 03/02/2020\n",
    "qtdPlayersAposdate_q = (\"SELECT count(DISTINCT(player_id)) as qtd FROM matchmaking_stats_summary WHERE updated_at>'2020-02-03 23:59:59'\")\n",
    "qtdPlayersAposdate = pd.read_sql(qtdPlayersAposdate_q, con=mydb)\n",
    "qtdPlayersAposdate = qtdPlayersAposdate['qtd'][0]\n",
    "\n",
    "print(\"Quantidade de players únicos que não jogaram após 03/02/2020 : \" + str(qtdPlayersUnicos-qtdPlayersAposdate) )\n"
   ]
  },
  {
   "cell_type": "markdown",
   "metadata": {},
   "source": [
    "2. Quantos usuários únicos jogaram em fevereiro após o dia 06/02/2020?\n"
   ]
  },
  {
   "cell_type": "code",
   "execution_count": 187,
   "metadata": {},
   "outputs": [
    {
     "name": "stdout",
     "output_type": "stream",
     "text": [
      "Quantidade de players únicos que  jogaram após 06/02/2020 : 0\n",
      "Quantidade de players únicos que  jogaram no dia 06/02/2020 : 330\n"
     ]
    }
   ],
   "source": [
    "#Players que jogaram após dia 06/02/2020\n",
    "qtdPlayersAposdate_q2 = (\"SELECT count(DISTINCT(player_id)) as qtd FROM matchmaking_stats_summary WHERE updated_at>'2020-02-06 23:59:59'\")\n",
    "qtdPlayersAposdate2 = pd.read_sql(qtdPlayersAposdate_q2, con=mydb)\n",
    "qtdPlayersAposdate2 = qtdPlayersAposdate2['qtd'][0]\n",
    "print(\"Quantidade de players únicos que  jogaram após 06/02/2020 : \" + str(qtdPlayersAposdate2) )\n",
    "\n",
    "#Como não há jogos pós dia 06/02/2020, deixei pronto a quantidade de players únicos que jogaram dia 06/02/2020\n",
    "qtdPlayersAposdate_q3 = (\"SELECT count(DISTINCT(player_id)) as qtd FROM matchmaking_stats_summary WHERE updated_at>'2020-02-05 23:59:59'\")\n",
    "qtdPlayersAposdate3 = pd.read_sql(qtdPlayersAposdate_q3, con=mydb)\n",
    "qtdPlayersAposdate3 = qtdPlayersAposdate3['qtd'][0]\n",
    "print(\"Quantidade de players únicos que  jogaram no dia 06/02/2020 : \" + str(qtdPlayersAposdate3) )"
   ]
  },
  {
   "cell_type": "markdown",
   "metadata": {},
   "source": [
    "3. Em qual dia mais jogadores deixaram de jogar no mês de fevereiro?"
   ]
  },
  {
   "cell_type": "code",
   "execution_count": 188,
   "metadata": {},
   "outputs": [
    {
     "name": "stdout",
     "output_type": "stream",
     "text": [
      "O dia: 02/02/2020 tem a menor quantidade de jogadores ausentes, com: 3237 jogadores ausentes.\n",
      "E o dia: 03/02/2020 tem a maior quantidade de jogadores ausentes, com: 3332 jogadores ausentes.\n"
     ]
    }
   ],
   "source": [
    "# Qtd total de players \n",
    "qtdPlayersUnicos_q = (\"SELECT count(distinct(player_id)) as qtd FROM `players`\")\n",
    "qtdPlayersUnicos = pd.read_sql(qtdPlayersUnicos_q, con=mydb)\n",
    "qtdPlayersUnicos = qtdPlayersUnicos.loc[0][0]\n",
    "\n",
    "#Qtd de players que jogaram por dia  = quantidade total que não jogou por dia.\n",
    "qtdPlayersSemJogar_q = (\"SELECT date(updated_at) as data, count(DISTINCT(player_id)) as qtd FROM matchmaking_stats_summary WHERE updated_at>='2020-02-01 00:00:00' group by date(updated_at)\")\n",
    "qtdPlayersSemJogar = pd.read_sql(qtdPlayersSemJogar_q, con=mydb)\n",
    "\n",
    "playersausentes = pd.DataFrame(columns=['data', 'players_ausentes'])\n",
    "playersausentes['data'] = qtdPlayersSemJogar['data']\n",
    "\n",
    "\n",
    "for i in range(playersausentes.shape[0]):\n",
    "    playersausentes.loc[i][1] = (qtdPlayersUnicos - qtdPlayersSemJogar.loc[i][1] )\n",
    "    \n",
    "ppl_min = playersausentes[playersausentes['players_ausentes'] == playersausentes['players_ausentes'].min()]\n",
    "ppl_max = playersausentes[playersausentes['players_ausentes'] == playersausentes['players_ausentes'].max()]\n",
    " \n",
    "print(\"O dia: \" + ppl_min.iloc[0][0].strftime('%d/%m/%Y') + \" tem a menor quantidade de jogadores ausentes, com: \" + str(ppl_min.iloc[0][1])+ \" jogadores ausentes.\" )\n",
    "print(\"E o dia: \" + ppl_max.iloc[0][0].strftime('%d/%m/%Y') + \" tem a maior quantidade de jogadores ausentes, com: \" + str(ppl_max.iloc[0][1])+ \" jogadores ausentes.\" )"
   ]
  }
 ],
 "metadata": {
  "kernelspec": {
   "display_name": "Python 3",
   "language": "python",
   "name": "python3"
  },
  "language_info": {
   "codemirror_mode": {
    "name": "ipython",
    "version": 3
   },
   "file_extension": ".py",
   "mimetype": "text/x-python",
   "name": "python",
   "nbconvert_exporter": "python",
   "pygments_lexer": "ipython3",
   "version": "3.8.3"
  }
 },
 "nbformat": 4,
 "nbformat_minor": 4
}
